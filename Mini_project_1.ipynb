{
  "cells": [
    {
      "cell_type": "markdown",
      "metadata": {
        "id": "view-in-github",
        "colab_type": "text"
      },
      "source": [
        "<a href=\"https://colab.research.google.com/github/Dandyson24/Data_cleaning/blob/main/Mini_project_1.ipynb\" target=\"_parent\"><img src=\"https://colab.research.google.com/assets/colab-badge.svg\" alt=\"Open In Colab\"/></a>"
      ]
    },
    {
      "cell_type": "markdown",
      "id": "1dd047c5",
      "metadata": {
        "id": "1dd047c5"
      },
      "source": [
        "\n",
        "# Mini Project - Week 1\n",
        "\n",
        "© Darey.io"
      ]
    },
    {
      "cell_type": "markdown",
      "id": "69fb6aa8",
      "metadata": {
        "id": "69fb6aa8"
      },
      "source": [
        "### This project covers:\n",
        "\n",
        "1. Python Data Structures\n",
        "2. Loops\n",
        "3. If Statements\n",
        "4. List Comprehension\n",
        "5. Lambda Functions"
      ]
    },
    {
      "cell_type": "markdown",
      "id": "641d6406",
      "metadata": {
        "id": "641d6406"
      },
      "source": [
        "### Number of Questions: 8\n",
        "\n",
        "#### Instructions:\n",
        "\n",
        "You are provided with a set of 8 questions designed to help you practice and apply your knowledge of Python data structures, loops, if statements, list comprehensions, and lambda functions. Each question includes the beginning part of the code and the expected output. Your task is to complete the missing parts of the code to achieve the expected output."
      ]
    },
    {
      "cell_type": "markdown",
      "id": "c13127b3",
      "metadata": {
        "id": "c13127b3"
      },
      "source": [
        "### Question 1: Filter Even Numbers\n",
        "#### Objective: Use list comprehension and if statement to filter even numbers from a given list."
      ]
    },
    {
      "cell_type": "code",
      "execution_count": null,
      "id": "7b9219d5",
      "metadata": {
        "colab": {
          "base_uri": "https://localhost:8080/"
        },
        "id": "7b9219d5",
        "outputId": "ab7c39d8-ecc6-4e7e-a5b5-f542c7335545"
      },
      "outputs": [
        {
          "output_type": "stream",
          "name": "stdout",
          "text": [
            "[2, 4, 6, 8, 10]\n"
          ]
        }
      ],
      "source": [
        "# Given list of numbers\n",
        "numbers = [1, 2, 3, 4, 5, 6, 7, 8, 9, 10]\n",
        "\n",
        "# Your task: Use list comprehension to create a new list 'even_numbers' that contains only the even numbers from 'numbers'\n",
        "\n",
        "# Write your code below\n",
        "\n",
        "even_numbers = [num for num in numbers if num % 2 == 0]\n",
        "\n",
        "print(even_numbers)"
      ]
    },
    {
      "cell_type": "markdown",
      "id": "c67dca7b",
      "metadata": {
        "id": "c67dca7b"
      },
      "source": [
        "```Python\n",
        "Expected Output: [2, 4, 6, 8, 10]\n"
      ]
    },
    {
      "cell_type": "markdown",
      "id": "deb47b2a",
      "metadata": {
        "id": "deb47b2a"
      },
      "source": [
        "### Question 2: Square Numbers Using Lambda\n",
        "#### Objective: Use a lambda function function to square each number in a given list."
      ]
    },
    {
      "cell_type": "code",
      "execution_count": null,
      "id": "9b63f47d",
      "metadata": {
        "colab": {
          "base_uri": "https://localhost:8080/"
        },
        "id": "9b63f47d",
        "outputId": "56ba5a4b-0e28-42e1-a614-0107dcaa3590"
      },
      "outputs": [
        {
          "output_type": "stream",
          "name": "stdout",
          "text": [
            "[1, 4, 9, 16, 25]\n"
          ]
        }
      ],
      "source": [
        "# Given list of numbers\n",
        "numbers = [1, 2, 3, 4, 5]\n",
        "\n",
        "# Your task: Use a lambda function to create a new list 'squared_numbers' where each element is the\n",
        "# square of the corresponding element in 'numbers'\n",
        "\n",
        "# Write your code below\n",
        "\n",
        "squared_numbers = list(map(lambda x: x**2, numbers))\n",
        "\n",
        "print(squared_numbers)\n"
      ]
    },
    {
      "cell_type": "markdown",
      "id": "e60a7fa2",
      "metadata": {
        "id": "e60a7fa2"
      },
      "source": [
        "```Python\n",
        "Expected Output: [1, 4, 9, 16, 25]\n"
      ]
    },
    {
      "cell_type": "markdown",
      "id": "b9b7ee55",
      "metadata": {
        "id": "b9b7ee55"
      },
      "source": [
        "### Question 3: Nested Loop for Matrix Transposition\n",
        "\n",
        "#### Objective: Use nested loops to transpose a given matrix."
      ]
    },
    {
      "cell_type": "code",
      "execution_count": null,
      "id": "37a40c77",
      "metadata": {
        "id": "37a40c77",
        "outputId": "76ad783c-ed1b-44e3-8f50-6a661f941c88",
        "colab": {
          "base_uri": "https://localhost:8080/"
        }
      },
      "outputs": [
        {
          "output_type": "stream",
          "name": "stdout",
          "text": [
            "[[1, 4, 7], [2, 5, 8], [3, 6, 9]]\n"
          ]
        }
      ],
      "source": [
        "# Given matrix\n",
        "matrix = [\n",
        "    [1, 2, 3],\n",
        "    [4, 5, 6],\n",
        "    [7, 8, 9]\n",
        "]\n",
        "\n",
        "# Your task: Use nested loops to create a new matrix 'transposed_matrix' which is the transpose of 'matrix'\n",
        "\n",
        "# Initialize the transposed matrix with the correct dimensions\n",
        "transposed_matrix = [[0 for _ in range(len(matrix))] for _ in range(len(matrix[0]))]\n",
        "\n",
        "# Write your code below\n",
        "\n",
        "# Using nested loops to transpose the matrix\n",
        "for a in range(len(matrix)):\n",
        "    for b in range(len(matrix[0])):\n",
        "        transposed_matrix[b][a] = matrix[a][b]\n",
        "\n",
        "print(transposed_matrix)\n"
      ]
    },
    {
      "cell_type": "markdown",
      "id": "9c66deff",
      "metadata": {
        "id": "9c66deff"
      },
      "source": [
        "```Python\n",
        "Expected Output: [[1, 4, 7], [2, 5, 8], [3, 6, 9]]\n"
      ]
    },
    {
      "cell_type": "markdown",
      "id": "244251b8",
      "metadata": {
        "id": "244251b8"
      },
      "source": [
        "### Question 4: Flatten a Nested List\n",
        "\n",
        "#### Objective: Use nested loops and list comprehension to flatten a nested list."
      ]
    },
    {
      "cell_type": "code",
      "execution_count": null,
      "id": "7ee66b2e",
      "metadata": {
        "id": "7ee66b2e",
        "outputId": "a38543e8-132a-4ea4-eeb9-081ef0068984",
        "colab": {
          "base_uri": "https://localhost:8080/"
        }
      },
      "outputs": [
        {
          "output_type": "stream",
          "name": "stdout",
          "text": [
            "[1, 2, 3, 4, 5, 6, 7, 8, 9]\n"
          ]
        }
      ],
      "source": [
        "# Given nested list\n",
        "nested_list = [[1, 2, 3], [4, 5], [6, 7, 8, 9]]\n",
        "\n",
        "# Your task: Use nested loops and list comprehension to create a new list 'flattened_list' that contains all the\n",
        "# elements of 'nested_list' in a single list\n",
        "\n",
        "# Write your code below\n",
        "\n",
        "#Using list comprehension to flatten the list\n",
        "flattened_list = [item for sublist in nested_list for item in sublist]\n",
        "\n",
        "print(flattened_list)\n"
      ]
    },
    {
      "cell_type": "markdown",
      "id": "15b06c85",
      "metadata": {
        "id": "15b06c85"
      },
      "source": [
        "```Python\n",
        "Expected Output: [1, 2, 3, 4, 5, 6, 7, 8, 9]\n"
      ]
    },
    {
      "cell_type": "markdown",
      "id": "defd49c9",
      "metadata": {
        "id": "defd49c9"
      },
      "source": [
        "### Question 5: Dictionary from Two Lists\n",
        "\n",
        "#### Objective: Use a loop and if statement to create a dictionary from two lists."
      ]
    },
    {
      "cell_type": "code",
      "execution_count": null,
      "id": "4fde6ecd",
      "metadata": {
        "id": "4fde6ecd",
        "outputId": "9fbf6673-61b0-4382-a9a3-7962edfe9e77",
        "colab": {
          "base_uri": "https://localhost:8080/"
        }
      },
      "outputs": [
        {
          "output_type": "stream",
          "name": "stdout",
          "text": [
            "{'name': 'Alice', 'age': 25, 'city': 'New York'}\n"
          ]
        }
      ],
      "source": [
        "# Given two lists\n",
        "keys = ['name', 'age', 'city']\n",
        "values = ['Alice', 25, 'New York']\n",
        "\n",
        "# Your task: Use a loop and if statement to create a dictionary 'my_dict' where elements from 'keys' are keys and\n",
        "# elements from 'values' are values\n",
        "\n",
        "# Write your code below\n",
        "\n",
        "# Initialize an empty dictionary\n",
        "my_dict = {}\n",
        "\n",
        "# Loop through indexes and assign key-value pairs\n",
        "for a in range(len(keys)):\n",
        "    if a < len(values):  # Ensure there's a corresponding value\n",
        "        my_dict[keys[a]] = values[a]\n",
        "\n",
        "print(my_dict)\n",
        "\n"
      ]
    },
    {
      "cell_type": "markdown",
      "id": "9519c012",
      "metadata": {
        "id": "9519c012"
      },
      "source": [
        "```Python\n",
        "Expected Output: {'name': 'Alice', 'age': 25, 'city': 'New York'}\n"
      ]
    },
    {
      "cell_type": "markdown",
      "id": "5063f62e",
      "metadata": {
        "id": "5063f62e"
      },
      "source": [
        "### Question 6: Filter and Transform Dictionary\n",
        "\n",
        "#### Objective: Use a lambda function, filter, and dictionary comprehension to filter and transform a dictionary."
      ]
    },
    {
      "cell_type": "code",
      "execution_count": null,
      "id": "01d3c444",
      "metadata": {
        "id": "01d3c444",
        "outputId": "268581ec-de0d-427c-9fcb-1896c453d371",
        "colab": {
          "base_uri": "https://localhost:8080/"
        }
      },
      "outputs": [
        {
          "output_type": "stream",
          "name": "stdout",
          "text": [
            "{'Alice': 90, 'Bob': 80, 'Charlie': 100}\n"
          ]
        }
      ],
      "source": [
        "# Given dictionary\n",
        "students = {\n",
        "    'Alice': 85,\n",
        "    'Bob': 75,\n",
        "    'Charlie': 95,\n",
        "    'David': 65,\n",
        "    'Eve': 50\n",
        "}\n",
        "\n",
        "# Your task: Use a lambda function, filter, and dictionary comprehension to create a new dictionary 'passed_students'\n",
        "# with students who scored more than 70. Add 5 bonus points to their scores.\n",
        "\n",
        "# Write your code below\n",
        "\n",
        "\n",
        "# Filter students who scored more than 70\n",
        "passed_students = {\n",
        "    name: score + 5\n",
        "    for name, score in filter(lambda item: item[1] > 70, students.items())\n",
        "}\n",
        "\n",
        "print(passed_students)"
      ]
    },
    {
      "cell_type": "markdown",
      "id": "47161247",
      "metadata": {
        "id": "47161247"
      },
      "source": [
        "```Python\n",
        "Expected Output: {'Alice': 90, 'Bob': 80, 'Charlie': 100}\n"
      ]
    },
    {
      "cell_type": "markdown",
      "id": "9a126fbc",
      "metadata": {
        "id": "9a126fbc"
      },
      "source": [
        "### Question 7: Grouping Elements by Parity\n",
        "\n",
        "#### Objective: Use a loop, if statement, and list comprehension to group elements of a list by parity (even or odd)."
      ]
    },
    {
      "cell_type": "code",
      "execution_count": null,
      "id": "2d63db15",
      "metadata": {
        "id": "2d63db15",
        "outputId": "d01793dd-a314-412c-fc25-e6a701ec05fb",
        "colab": {
          "base_uri": "https://localhost:8080/"
        }
      },
      "outputs": [
        {
          "output_type": "stream",
          "name": "stdout",
          "text": [
            "{'even': [2, 4, 6, 8, 10], 'odd': [1, 3, 5, 7, 9]}\n"
          ]
        }
      ],
      "source": [
        "# Given list of numbers\n",
        "numbers = [1, 2, 3, 4, 5, 6, 7, 8, 9, 10]\n",
        "\n",
        "# Your task: Use a loop, if statement, and list comprehension to create a dictionary 'grouped_numbers' with two\n",
        "# keys: 'even' and 'odd', containing even and odd numbers respectively.\n",
        "\n",
        "# Write your code below\n",
        "\n",
        "\n",
        "# Create grouped_numbers dictionary\n",
        "grouped_numbers = {\n",
        "    'even': [num for num in numbers if num % 2 == 0],\n",
        "    'odd': [num for num in numbers if num % 2 != 0]\n",
        "}\n",
        "\n",
        "print(grouped_numbers)"
      ]
    },
    {
      "cell_type": "markdown",
      "id": "375f2559",
      "metadata": {
        "id": "375f2559"
      },
      "source": [
        "\n",
        "\n",
        "Expected Output: {'even': [2, 4, 6, 8, 10], 'odd': [1, 3, 5, 7, 9]}\n"
      ]
    },
    {
      "cell_type": "markdown",
      "id": "73e9f049",
      "metadata": {
        "id": "73e9f049"
      },
      "source": [
        "### Question 8: Fibonacci Sequence Generator\n",
        "\n",
        "#### Objective: Use a loop and if statement to generate the first n Fibonacci numbers."
      ]
    },
    {
      "cell_type": "code",
      "execution_count": null,
      "id": "cb525a00",
      "metadata": {
        "id": "cb525a00",
        "outputId": "47044fb3-ef45-40a7-ed11-eadfcb8bd307",
        "colab": {
          "base_uri": "https://localhost:8080/"
        }
      },
      "outputs": [
        {
          "output_type": "stream",
          "name": "stdout",
          "text": [
            "[0, 1, 1, 2, 3, 5, 8, 13, 21, 34]\n"
          ]
        }
      ],
      "source": [
        "# Given a number n\n",
        "n = 10\n",
        "\n",
        "# Your task: Use a loop and if statement to create a list 'fibonacci' containing the first n Fibonacci numbers\n",
        "\n",
        "# Write your code below\n",
        "\n",
        "fibonacci = [0, 1]\n",
        "n = 10\n",
        "\n",
        "# Use a loop to generate the remaining Fibonacci numbers\n",
        "\n",
        "# Start with the first two Fibonacci numbers\n",
        "fibonacci = [0, 1]\n",
        "\n",
        "# Use a loop to generate the remaining Fibonacci numbers\n",
        "for b in range(2, n):\n",
        "    next_num = fibonacci[b - 1] + fibonacci[b - 2]\n",
        "    fibonacci.append(next_num)\n",
        "\n",
        "print(fibonacci)\n"
      ]
    },
    {
      "cell_type": "markdown",
      "id": "ae542aa8",
      "metadata": {
        "id": "ae542aa8"
      },
      "source": [
        "```Python\n",
        "Expected Output: [0, 1, 1, 2, 3, 5, 8, 13, 21, 34]\n"
      ]
    }
  ],
  "metadata": {
    "colab": {
      "provenance": [],
      "include_colab_link": true
    },
    "kernelspec": {
      "display_name": "Python 3 (ipykernel)",
      "language": "python",
      "name": "python3"
    },
    "language_info": {
      "codemirror_mode": {
        "name": "ipython",
        "version": 3
      },
      "file_extension": ".py",
      "mimetype": "text/x-python",
      "name": "python",
      "nbconvert_exporter": "python",
      "pygments_lexer": "ipython3",
      "version": "3.11.4"
    }
  },
  "nbformat": 4,
  "nbformat_minor": 5
}